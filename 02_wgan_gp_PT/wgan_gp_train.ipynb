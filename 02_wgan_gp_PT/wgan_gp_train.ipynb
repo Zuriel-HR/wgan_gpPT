    "BATCH_SIZE = 128\n",
    "Z_DIM = 256\n",
    "CRITIC_STEPS = 2\n",
    "GP_WEIGHT = 5.0\n",
}