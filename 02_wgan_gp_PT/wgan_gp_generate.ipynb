{
 "cells": [
  {
   "cell_type": "markdown",
   "id": "11427a6a",
   "metadata": {},
   "source": [
    "# WGAN-GP crear datos sintéticos"
   ]
  },
  {
   "cell_type": "code",
   "execution_count": 23,
   "id": "56aa866b",
   "metadata": {},
   "outputs": [
    {
     "name": "stdout",
     "output_type": "stream",
     "text": [
      "The autoreload extension is already loaded. To reload it, use:\n",
      "  %reload_ext autoreload\n"
     ]
    }
   ],
   "source": [
    "%load_ext autoreload\n",
    "%autoreload 2\n",
    "import numpy as np\n",
    "import matplotlib.pyplot as plt\n",
    "import os\n",
    "import json\n",
    "\n",
    "import tensorflow as tf\n",
    "from tensorflow.keras import (\n",
    "    layers,\n",
    "    models,\n",
    "    callbacks,\n",
    "    losses,\n",
    "    utils,\n",
    "    metrics,\n",
    "    optimizers,\n",
    ")"
   ]
  },
  {
   "cell_type": "markdown",
   "id": "d36da3f4",
   "metadata": {},
   "source": [
    "## 0. Establecer parámetros <a name=\"Parámetros\"></a>"
   ]
  },
  {
   "cell_type": "code",
   "execution_count": 24,
   "id": "db44ef78",
   "metadata": {},
   "outputs": [],
   "source": [
    "IMAGE_SIZE = 32\n",
    "CHANNELS = 1\n",
    "BATCH_SIZE = 128\n",
    "NUM_FEATURES = 64\n",
    "Z_DIM = 256\n",
    "LEARNING_RATE = 0.0002\n",
    "ADAM_BETA_1 = 0.5\n",
    "ADAM_BETA_2 = 0.999\n",
    "EPOCHS = 1000#200\n",
    "CRITIC_STEPS = 2\n",
    "GP_WEIGHT = 5.0\n",
    "LOAD_MODEL = False\n",
    "ADAM_BETA_1 = 0.5\n",
    "ADAM_BETA_2 = 0.9"
   ]
  },
  {
   "cell_type": "markdown",
   "id": "65291575",
   "metadata": {},
   "source": [
    "## 1. Cargar los datos <a name=\"Preparar\"></a>"
   ]
  },
  {
   "cell_type": "code",
   "execution_count": 25,
   "id": "3b85c7f7",
   "metadata": {},
   "outputs": [
    {
     "name": "stdout",
     "output_type": "stream",
     "text": [
      "Shape del dataset: (584, 32, 32, 1)\n",
      "Min: -1.0 Max: 1.0\n"
     ]
    }
   ],
   "source": [
    "# Cargar el archivo .npy\n",
    "malware_data = np.load(\"./data/dataset_malware.npy\")\n",
    "\n",
    "# Revisamos normalización\n",
    "print(\"Shape del dataset:\", malware_data.shape)\n",
    "print(\"Min:\", malware_data.min(), \"Max:\", malware_data.max())"
   ]
  },
  {
   "cell_type": "code",
   "execution_count": 26,
   "id": "a82d3083",
   "metadata": {},
   "outputs": [],
   "source": [
    "# Creamos un dataset de TensorFlow\n",
    "\n",
    "# Creamos un objeto Dataset a partir del tensor en malware_data\n",
    "train_data = tf.data.Dataset.from_tensor_slices(malware_data) \n",
    "\n",
    "# Mezclamos aleatoriamente los elementos del Dataset.\n",
    "train_data = train_data.shuffle(buffer_size=malware_data.shape[0], seed=42) \n",
    "\n",
    "# Agrupamos los datos en lotes (batches) del tamaño BATCH_SIZE. \n",
    "# prefetch prepara, durante el entrenamiento, el siguiente batch (al usar AUTOTUNE se da al sistema elegir cuantos preparar según los recursos del sistema) \n",
    "train_data = train_data.batch(BATCH_SIZE).prefetch(tf.data.AUTOTUNE) \n",
    "train = train_data"
   ]
  },
  {
   "cell_type": "markdown",
   "id": "9de36ecc",
   "metadata": {},
   "source": [
    "### 1.1 Cargar los modelos <a name=\"Preparar\"></a>"
   ]
  },
  {
   "cell_type": "code",
   "execution_count": 27,
   "id": "fffa214c",
   "metadata": {},
   "outputs": [],
   "source": [
    "from tensorflow.keras.models import load_model\n",
    "\n",
    "# Cargar los modelos\n",
    "generator = load_model(\"./models/generator.keras\")\n",
    "critic = load_model(\"./models/critic.keras\")"
   ]
  },
  {
   "cell_type": "markdown",
   "id": "1cc3214d",
   "metadata": {},
   "source": [
    "## 2. Generar nuevas imágenes <a name=\"decode\"></a>"
   ]
  },
  {
   "cell_type": "code",
   "execution_count": 28,
   "id": "3ce1a072",
   "metadata": {},
   "outputs": [
    {
     "name": "stdout",
     "output_type": "stream",
     "text": [
      "\u001b[1m1/1\u001b[0m \u001b[32m━━━━━━━━━━━━━━━━━━━━\u001b[0m\u001b[37m\u001b[0m \u001b[1m0s\u001b[0m 114ms/step\n"
     ]
    }
   ],
   "source": [
    "# Muestrea algunos puntos del espacio latente con distribución normal estándar (noise)\n",
    "grid_width, grid_height = (5, 3)\n",
    "# Lote de vectores\n",
    "z_sample = np.random.normal(size=(grid_width * grid_height, Z_DIM))\n",
    "# Pasa el lote de vectores por la GAN.\n",
    "gen_imgs = generator.predict(z_sample) # Reconstrucción. Arreglo NumPy."
   ]
  },
  {
   "cell_type": "code",
   "execution_count": null,
   "id": "de4ffcb7",
   "metadata": {},
   "outputs": [],
   "source": []
  },
  {
   "cell_type": "markdown",
   "id": "a49d5172",
   "metadata": {},
   "source": [
    "### 2.1 Funciones de decodificación <a name=\"s\"></a>"
   ]
  },
  {
   "cell_type": "code",
   "execution_count": 29,
   "id": "84bd0e03",
   "metadata": {},
   "outputs": [],
   "source": [
    "import numpy as np\n",
    "import time\n",
    "from datetime import datetime\n",
    "\n",
    "def extraer_funciones_desde_txt(txt_path=\"./Extraer_Caracteristicas/funciones_existentes.txt\"):\n",
    "    with open(txt_path, \"r\") as f:\n",
    "        lista_funciones = [linea.strip() for linea in f]  # .strip() quita el salto de línea.\n",
    "    return lista_funciones\n",
    "\n",
    "# === Deben coincidir con tu encoder ===\n",
    "NORMALIZAR_ENTRADA = \"0-1\"  # o \"menos1-a-1\"\n",
    "FUNCIONES_API = extraer_funciones_desde_txt(txt_path=\"./data/funciones_existentes.txt\")  # tu misma lista (lib::func)\n",
    "N = len(FUNCIONES_API)\n",
    "\n",
    "# Orden exacto que usaste al codificar\n",
    "FAMILIAS = [\n",
    "    \"benign\", \"_Action\", \"_Chthonic\", \"_Citadel\", \"_Evo-Zeus (Evolution)\", \"_Flokibot\",\n",
    "    \"_Grabbot\", \"_Ice IX\", \"_KINS\", \"_Murofet\", \"_Pandabanker\", \"_PowerZeus\",\n",
    "    \"_Prog\", \"_Satan\", \"_Skynet\", \"_Tasks\", \"_Uncategorized\",\n",
    "    \"_Unnamed 1\", \"_Unnamed 10\", \"_Unnamed 2\", \"_Unnamed 3\", \"_Unnamed 4\",\n",
    "    \"_Unnamed 7\", \"_Unnamed 8\", \"_Unnamed 9\", \"_VMZeus\", \"_ZeuS 1\",\n",
    "    \"_ZeuS 2\", \"_ZeuS v4 (Unnamed 5)\", \"_Zeus z2.5 (Unnamed 6)\",\n",
    "    \"_ZeusAES\", \"_ZeusX\", \"_Zloader 2 (Silent Night)\", \"_Zloader\",\n",
    "    \"ZeuS Over Tor (Sphinx)\", \"ZeuS-P2P (GameOver)\"\n",
    "]\n",
    "FAMILIAS_ORD = sorted(FAMILIAS)\n",
    "NUM_FAMS = len(FAMILIAS_ORD)\n",
    "\n",
    "# Constantes de normalización que usaste\n",
    "TS_MIN = 1104537600  # 2005-01-01\n",
    "TS_MAX = 1893456000  # 2030-01-01\n",
    "SECT_ENT_MIN, SECT_ENT_MAX = 0.0, 8.0\n",
    "SECT_SIZE_MIN, SECT_SIZE_MAX = 0.0, 1_000_000.0\n",
    "ENTROPY_MIN, ENTROPY_MAX = 0.0, 8.0\n",
    "FSIZE_MIN, FSIZE_MAX = 0.0, 50*1024*1024  # 50 MB en bytes\n",
    "\n",
    "# Vector de \"datos\" = 4 (cabecera) + 12 (4 secciones * 3) + 3 (sección extra) = 19\n",
    "LEN_DATOS = 19  # [fam, size, timestamp, entropy] + 4*3 + 3\n",
    "\n",
    "def desnormalizar(x, min_val, max_val):\n",
    "    \"\"\"\n",
    "    Inversa de normalizar(). Si NORMALIZAR_ENTRADA == 'menos1-a-1',\n",
    "    primero llevamos x de [-1,1] a [0,1].\n",
    "    \"\"\"\n",
    "    if NORMALIZAR_ENTRADA == \"menos1-a-1\":\n",
    "        x = (x + 1) / 2.0\n",
    "    # ahora x en [0,1]\n",
    "    return x * (max_val - min_val) + min_val\n",
    "\n",
    "def imagen_a_vector(img):\n",
    "    \"\"\"\n",
    "    Inversa de vector_a_imagen:\n",
    "    - img viene en [-1,1] (salida GAN).\n",
    "    - Lo llevamos a [0,1] y achatamos.\n",
    "    \"\"\"\n",
    "    # deshacer: imagen = (vector * 2) - 1\n",
    "    vec01 = (img + 1.0) / 2.0\n",
    "    return vec01.flatten().astype(np.float32)\n",
    "\n",
    "def vector_a_json(vec01):\n",
    "    \"\"\"\n",
    "    vec01 es el vector completo en [0,1] (ya convertido desde [-1,1]).\n",
    "    Estructura esperada: primeros LEN_DATOS = cabecera+secciones; resto = imports binarios sobre FUNCIONES_API.\n",
    "    \"\"\"\n",
    "    # Cortes de seguridad\n",
    "    expected_len = LEN_DATOS + N\n",
    "    if len(vec01) < expected_len:\n",
    "        # Si la GAN recortó, hacemos padding a 0\n",
    "        vec01 = np.pad(vec01, (0, expected_len - len(vec01)))\n",
    "    elif len(vec01) > expected_len:\n",
    "        vec01 = vec01[:expected_len]\n",
    "\n",
    "    datos = vec01[:LEN_DATOS]\n",
    "    imports_vec = vec01[LEN_DATOS:LEN_DATOS+N]\n",
    "\n",
    "    # ---- 1) Cabecera ----\n",
    "    fam_norm, fsize_norm, ts_norm, ent_norm = datos[:4]\n",
    "\n",
    "    # familia (usa fórmula del encoder: (idx*2+1)/(2*NUM_FAMS))\n",
    "    # Inversa aproximada:\n",
    "    fam_cont = fam_norm * 2 * NUM_FAMS - 1\n",
    "    fam_idx = int(round(fam_cont / 2))\n",
    "    fam_idx = max(0, min(NUM_FAMS - 1, fam_idx))\n",
    "    software_family = FAMILIAS_ORD[fam_idx]\n",
    "\n",
    "    # tamaño bytes\n",
    "    file_size_bytes = desnormalizar(fsize_norm, FSIZE_MIN, FSIZE_MAX)\n",
    "    # podemos expresar en KB redondeado\n",
    "    file_size_kb = int(round(file_size_bytes / 1024.0))\n",
    "    file_size_str = f\"{file_size_kb}KB\"\n",
    "\n",
    "    # timestamp\n",
    "    ts_val = desnormalizar(ts_norm, TS_MIN, TS_MAX)\n",
    "    ts_val = max(TS_MIN, min(TS_MAX, ts_val))\n",
    "    # A string estilo: \"%a %b %d %H:%M:%S %Y\\n\"\n",
    "    dt = time.localtime(int(ts_val))\n",
    "    compilation_timestamp = time.strftime(\"%a %b %d %H:%M:%S %Y\\n\", dt)\n",
    "\n",
    "    # entropía global\n",
    "    entropy = float(desnormalizar(ent_norm, ENTROPY_MIN, ENTROPY_MAX))\n",
    "\n",
    "    # ---- 2) Secciones ----\n",
    "    # Orden codificado\n",
    "    orden_secciones = [\".text\", \".idata\", \".rsrc\", \".data\"]\n",
    "    # Cada una tiene [ent, v_size, r_size] en ese orden\n",
    "    sec_vals = datos[4:4 + 12]  # 4 secciones * 3 valores\n",
    "    extra_vals = datos[16:19]   # sección adicional (3 valores)\n",
    "\n",
    "    sections = []\n",
    "    # 4 secciones fijas\n",
    "    for i, name in enumerate(orden_secciones):\n",
    "        ent_i = float(desnormalizar(sec_vals[i*3 + 0], SECT_ENT_MIN, SECT_ENT_MAX))\n",
    "        vsz_i = int(round(desnormalizar(sec_vals[i*3 + 1], SECT_SIZE_MIN, SECT_SIZE_MAX)))\n",
    "        rsz_i = int(round(desnormalizar(sec_vals[i*3 + 2], SECT_SIZE_MIN, SECT_SIZE_MAX)))\n",
    "        sections.append({\n",
    "            \"name\": name,\n",
    "            \"virtual_size\": vsz_i,\n",
    "            \"raw_size\": rsz_i,\n",
    "            \"entropy\": ent_i,\n",
    "            \"entropy_block\": []  # no lo codificaste; dejar vacío\n",
    "        })\n",
    "\n",
    "    # Sección adicional (la de mayor entropía fuera de las 4), solo si aporta algo\n",
    "    ent_e = float(desnormalizar(extra_vals[0], SECT_ENT_MIN, SECT_ENT_MAX))\n",
    "    vsz_e = int(round(desnormalizar(extra_vals[1], SECT_SIZE_MIN, SECT_SIZE_MAX)))\n",
    "    rsz_e = int(round(desnormalizar(extra_vals[2], SECT_SIZE_MIN, SECT_SIZE_MAX)))\n",
    "    if (ent_e > 0.0) or (vsz_e > 0) or (rsz_e > 0):\n",
    "        sections.append({\n",
    "            \"name\": \".extra_high_entropy\",\n",
    "            \"virtual_size\": vsz_e,\n",
    "            \"raw_size\": rsz_e,\n",
    "            \"entropy\": ent_e,\n",
    "            \"entropy_block\": []\n",
    "        })\n",
    "\n",
    "    # ---- 3) Imports ----\n",
    "    # Tu encoder binariza (0/1) y, si NORMALIZAR_ENTRADA == \"menos1-a-1\", mapea a {-1,1}.\n",
    "    # Aquí recuperamos presencia usando umbral 0.5 (si 0-1) o 0 (si -1 a 1 sobre la imagen ya convertida a [0,1]).\n",
    "    if NORMALIZAR_ENTRADA == \"0-1\":\n",
    "        presencias = imports_vec >= 0.5\n",
    "    else:\n",
    "        # Recordatorio: ya convertimos la imagen a [0,1]. En ese esquema,\n",
    "        # el 0 binario original -> 0.0 ; el 1 binario original -> 1.0 (tras tu normalización y mi deshacer)\n",
    "        # Así que también sirve 0.5 como umbral.\n",
    "        presencias = imports_vec >= 0.5\n",
    "\n",
    "    presentes = [FUNCIONES_API[i] for i, ok in enumerate(presencias) if ok]\n",
    "\n",
    "    # Reconstruimos \"dlls\": agrupando por libname\n",
    "    dll_map = {}\n",
    "    for full in presentes:\n",
    "        # full = \"lib::func\"\n",
    "        if \"::\" in full:\n",
    "            lib, fn = full.split(\"::\", 1)\n",
    "        else:\n",
    "            lib, fn = \"unknown.dll\", full\n",
    "        # Re-ensamblar lib en formato \"LIB.dll\" similar a tus JSONs (opcional)\n",
    "        lib_up = lib\n",
    "        dll_map.setdefault(lib_up, []).append(fn)\n",
    "\n",
    "    imports = {\n",
    "        \"dlls\": [{\"libname\": lib, \"functions\": fns} for lib, fns in dll_map.items()],\n",
    "        \"suspicious_imports\": {}  # no codificado\n",
    "    }\n",
    "\n",
    "    # ---- Armar JSON ----\n",
    "    decoded = {\n",
    "        \"file_info\": {\n",
    "            \"file_name\": \"\",  # no codificado\n",
    "            \"software_family\": software_family,\n",
    "            \"file_size\": file_size_str,\n",
    "            \"hashes\": {\n",
    "                \"md5\": \"\",\n",
    "                \"sha256\": \"\"\n",
    "            }\n",
    "        },\n",
    "        \"analysis\": {\n",
    "            \"compilation_timestamp\": compilation_timestamp,\n",
    "            \"entropy\": entropy,\n",
    "            \"imports\": imports,\n",
    "            \"strings\": {\n",
    "                \"total_strings\": 0,\n",
    "                \"detalles\": [],\n",
    "                \"suspicious_strings\": []\n",
    "            },\n",
    "            \"sections\": sections,\n",
    "            \"resources\": {\n",
    "                \"total_size\": 0,\n",
    "                \"details\": []\n",
    "            }\n",
    "        }\n",
    "    }\n",
    "    return decoded\n",
    "\n",
    "# === Uso típico ===\n",
    "# img: numpy array (H,W) o (H,W,1) en rango [-1,1] salida de la GAN\n",
    "# vec01 = imagen_a_vector(img)        # pasa a [0,1] y aplana\n",
    "# json_out = vector_a_json(vec01)     # reconstrucción \"lo que sí estaba codificado\"\n"
   ]
  },
  {
   "cell_type": "markdown",
   "id": "c9935cd1",
   "metadata": {},
   "source": [
    "### 2.2 Mostrar imágenes generadas <a name=\"s\"></a>"
   ]
  },
  {
   "cell_type": "code",
   "execution_count": 30,
   "id": "3e71e902",
   "metadata": {},
   "outputs": [
    {
     "data": {
      "image/png": "[encoded data removed]",
      "text/plain": [
       "<Figure size 1000x600 with 15 Axes>"
      ]
     },
     "metadata": {},
     "output_type": "display_data"
    }
   ],
   "source": [
    "# Muestra las imagenes decodificadas (gen_imgs).\n",
    "fig = plt.figure(figsize=(10, 6))\n",
    "fig.subplots_adjust(hspace=0.4, wspace=0.4)\n",
    "fig.suptitle(\"Imagenes generadas por la GAN\", fontsize=20)\n",
    "\n",
    "\n",
    "for i in range(grid_width * grid_height):\n",
    "    ax = fig.add_subplot(grid_height, grid_width, i + 1)\n",
    "    ax.axis(\"off\")\n",
    "    ax.imshow(gen_imgs[i, :, :], cmap=\"gray_r\", vmin=-1, vmax=1)\n",
    "plt.tight_layout()\n",
    "plt.show()\n"
   ]
  },
  {
   "cell_type": "markdown",
   "id": "e20dba3f",
   "metadata": {},
   "source": [
    "### 2.3 Ejemplo: Reconstruir JSON a partir de imagen <a name=\"s\"></a>"
   ]
  },
  {
   "cell_type": "code",
   "execution_count": 31,
   "id": "fc153b9d",
   "metadata": {},
   "outputs": [
    {
     "name": "stdout",
     "output_type": "stream",
     "text": [
      "{\n",
      "  \"file_info\": {\n",
      "    \"file_name\": \"\",\n",
      "    \"software_family\": \"ZeuS Over Tor (Sphinx)\",\n",
      "    \"file_size\": \"61KB\",\n",
      "    \"hashes\": {\n",
      "      \"md5\": \"\",\n",
      "      \"sha256\": \"\"\n",
      "    }\n",
      "  },\n",
      "  \"analysis\": {\n",
      "    \"compilation_timestamp\": \"Sat Jul 08 17:25:52 2006\\n\",\n",
      "    \"entropy\": 7.36932373046875,\n",
      "    \"imports\": {\n",
      "      \"dlls\": [\n",
      "        {\n",
      "          \"libname\": \"ntdll.dll\",\n",
      "          \"functions\": [\n",
      "            \"RtlGetSaclSecurityDescriptor\"\n",
      "          ]\n",
      "        }\n",
      "      ],\n",
      "      \"suspicious_imports\": {}\n",
      "    },\n",
      "    \"strings\": {\n",
      "      \"total_strings\": 0,\n",
      "      \"detalles\": [],\n",
      "      \"suspicious_strings\": []\n",
      "    },\n",
      "    \"sections\": [\n",
      "      {\n",
      "        \"name\": \".text\",\n",
      "        \"virtual_size\": 52040,\n",
      "        \"raw_size\": 68923,\n",
      "        \"entropy\": 5.58326530456543,\n",
      "        \"entropy_block\": []\n",
      "      },\n",
      "      {\n",
      "        \"name\": \".idata\",\n",
      "        \"virtual_size\": 5193,\n",
      "        \"raw_size\": 447,\n",
      "        \"entropy\": 1.0412228107452393,\n",
      "        \"entropy_block\": []\n",
      "      },\n",
      "      {\n",
      "        \"name\": \".rsrc\",\n",
      "        \"virtual_size\": 25234,\n",
      "        \"raw_size\": 4615,\n",
      "        \"entropy\": 2.5088720321655273,\n",
      "        \"entropy_block\": []\n",
      "      },\n",
      "      {\n",
      "        \"name\": \".data\",\n",
      "        \"virtual_size\": 31540,\n",
      "        \"raw_size\": 49302,\n",
      "        \"entropy\": 6.730053901672363,\n",
      "        \"entropy_block\": []\n",
      "      },\n",
      "      {\n",
      "        \"name\": \".extra_high_entropy\",\n",
      "        \"virtual_size\": 4577,\n",
      "        \"raw_size\": 15071,\n",
      "        \"entropy\": 7.11815881729126,\n",
      "        \"entropy_block\": []\n",
      "      }\n",
      "    ],\n",
      "    \"resources\": {\n",
      "      \"total_size\": 0,\n",
      "      \"details\": []\n",
      "    }\n",
      "  }\n",
      "}\n"
     ]
    }
   ],
   "source": [
    "# Tomamos la primera imagen generada\n",
    "img = gen_imgs[0]  \n",
    "\n",
    "# Paso 1: convertir imagen [-1,1] a vector [0,1]\n",
    "vec01 = imagen_a_vector(img)\n",
    "\n",
    "# Paso 2: decodificar el vector a JSON\n",
    "json_out = vector_a_json(vec01)\n",
    "\n",
    "# Mostrar el JSON reconstruido\n",
    "import json\n",
    "print(json.dumps(json_out, indent=2))"
   ]
  },
  {
   "cell_type": "markdown",
   "id": "7dde5fe5",
   "metadata": {},
   "source": [
    "#### Reconstruir JSON a partir de imagen <a name=\"s\"></a>"
   ]
  },
  {
   "cell_type": "code",
   "execution_count": 32,
   "id": "74da4d0c",
   "metadata": {},
   "outputs": [
    {
     "data": {
      "image/png": "[encoded data removed]",
      "text/plain": [
       "<Figure size 1200x700 with 15 Axes>"
      ]
     },
     "metadata": {},
     "output_type": "display_data"
    }
   ],
   "source": [
    "r, c = 3, 5\n",
    "fig, axs = plt.subplots(r, c, figsize=(12, 7))\n",
    "\n",
    "cnt = 0\n",
    "for i in range(r):\n",
    "    for j in range(c):\n",
    "        img = gen_imgs[cnt]\n",
    "\n",
    "        # Mostrar imagen\n",
    "        axs[i, j].imshow(img, cmap=\"gray_r\", vmin=-1, vmax=1)\n",
    "        axs[i, j].axis(\"off\")\n",
    "\n",
    "        # Decodificar a JSON\n",
    "        vec01 = imagen_a_vector(img)\n",
    "        json_out = vector_a_json(vec01)\n",
    "\n",
    "        # Mostrar la familia como título\n",
    "        fam = json_out[\"file_info\"][\"software_family\"]\n",
    "        axs[i, j].set_title(fam, fontsize=8)\n",
    "\n",
    "        cnt += 1\n",
    "\n",
    "plt.tight_layout()\n",
    "plt.show()"
   ]
  },
  {
   "cell_type": "markdown",
   "id": "189bcbfa",
   "metadata": {},
   "source": [
    "### 2.4 Guardar imágenes y JSONs generados <a name=\"s\"></a>"
   ]
  },
  {
   "cell_type": "code",
   "execution_count": 33,
   "id": "0009ce53",
   "metadata": {},
   "outputs": [
    {
     "name": "stderr",
     "output_type": "stream",
     "text": [
      "C:\\Users\\castr\\AppData\\Local\\Temp\\ipykernel_29760\\712689082.py:17: DeprecationWarning: 'mode' parameter is deprecated and will be removed in Pillow 13 (2026-10-15)\n",
      "  Image.fromarray(img255, mode=\"L\").save(path)\n"
     ]
    },
    {
     "data": {
      "image/png": "[encoded data removed]",
      "text/plain": [
       "<Figure size 1200x700 with 15 Axes>"
      ]
     },
     "metadata": {},
     "output_type": "display_data"
    },
    {
     "name": "stdout",
     "output_type": "stream",
     "text": [
      "\n",
      "\n",
      "Guardados 15 JSON en ./Decoded_JSONs\n",
      "Guardadas 15 imágenes PNG en ./Decoded_PNGs\n"
     ]
    }
   ],
   "source": [
    "from PIL import Image\n",
    "\n",
    "# === Ajustes de salida ===\n",
    "OUT_JSON_DIR = \"./Decoded_JSONs\"\n",
    "OUT_IMG_DIR  = \"./Decoded_PNGs\"   # opcional\n",
    "os.makedirs(OUT_JSON_DIR, exist_ok=True)\n",
    "os.makedirs(OUT_IMG_DIR, exist_ok=True)\n",
    "\n",
    "def save_img_png_from_minus1_1(img_minus1_1: np.ndarray, path: str):\n",
    "    \"\"\"\n",
    "    Guarda una imagen (H,W) o (H,W,1) en rango [-1,1] como PNG en escala de grises.\n",
    "    \"\"\"\n",
    "    if img_minus1_1.ndim == 3 and img_minus1_1.shape[-1] == 1:\n",
    "        img_minus1_1 = img_minus1_1[..., 0]\n",
    "    img01 = (img_minus1_1 + 1.0) / 2.0\n",
    "    img255 = np.clip(img01 * 255.0, 0, 255).astype(np.uint8)\n",
    "    Image.fromarray(img255, mode=\"L\").save(path)\n",
    "\n",
    "# === Mostrar en grid y decodificar ===\n",
    "def show_and_decode_all(gen_imgs, cols=5, figsize=(12, 7)):\n",
    "    \"\"\"\n",
    "    Muestra un grid con todas las imágenes de gen_imgs, decodifica cada una a JSON\n",
    "    y guarda:\n",
    "      - ./Decoded_JSONs/decoded_{i:04d}__{family}.json\n",
    "      - ./Decoded_PNGs/img_{i:04d}.png  (opcional)\n",
    "    \"\"\"\n",
    "    n = len(gen_imgs)\n",
    "    if n == 0:\n",
    "        print(\"No hay imágenes en gen_imgs.\")\n",
    "        return\n",
    "\n",
    "    rows = (n + cols - 1) // cols\n",
    "    fig, axs = plt.subplots(rows, cols, figsize=figsize)\n",
    "    axs = np.atleast_2d(axs)\n",
    "\n",
    "    cnt = 0\n",
    "    for r in range(rows):\n",
    "        for c in range(cols):\n",
    "            ax = axs[r, c]\n",
    "            if cnt < n:\n",
    "                img = gen_imgs[cnt]  # rango [-1,1]\n",
    "                # Mostrar\n",
    "                ax.imshow(img.squeeze() if img.ndim==3 else img, cmap=\"gray_r\", vmin=-1, vmax=1)\n",
    "                ax.axis(\"off\")\n",
    "\n",
    "                # Decodificar\n",
    "                vec01 = imagen_a_vector(img)     # [-1,1] -> [0,1] aplanado\n",
    "                decoded = vector_a_json(vec01)   # JSON reconstruido\n",
    "\n",
    "                # Título con familia\n",
    "                fam = decoded[\"file_info\"][\"software_family\"]\n",
    "                ax.set_title(fam, fontsize=8)\n",
    "\n",
    "                # Guardar JSON\n",
    "                json_name = f\"decoded_{cnt:04d}__{fam.replace(' ', '_')}.json\"\n",
    "                with open(os.path.join(OUT_JSON_DIR, json_name), \"w\", encoding=\"utf-8\") as f:\n",
    "                    json.dump(decoded, f, indent=2, ensure_ascii=False)\n",
    "\n",
    "                # (Opcional) Guardar PNG\n",
    "                png_name = f\"img_{cnt:04d}.png\"\n",
    "                save_img_png_from_minus1_1(img, os.path.join(OUT_IMG_DIR, png_name))\n",
    "\n",
    "                cnt += 1\n",
    "            else:\n",
    "                ax.axis(\"off\")\n",
    "\n",
    "    plt.tight_layout()\n",
    "    plt.show()\n",
    "    print(f\"\\n\\nGuardados {n} JSON en {OUT_JSON_DIR}\")\n",
    "    print(f\"Guardadas {n} imágenes PNG en {OUT_IMG_DIR}\")\n",
    "\n",
    "# === USO ===\n",
    "# Llama esto tras generar tus imágenes de la GAN:\n",
    "show_and_decode_all(gen_imgs, cols=5, figsize=(12, 7))"
   ]
  }
 ],
 "metadata": {
  "kernelspec": {
   "display_name": ".venv",
   "language": "python",
   "name": "python3"
  },
  "language_info": {
   "codemirror_mode": {
    "name": "ipython",
    "version": 3
   },
   "file_extension": ".py",
   "mimetype": "text/x-python",
   "name": "python",
   "nbconvert_exporter": "python",
   "pygments_lexer": "ipython3",
   "version": "3.13.5"
  }
 },
 "nbformat": 4,
 "nbformat_minor": 5
}